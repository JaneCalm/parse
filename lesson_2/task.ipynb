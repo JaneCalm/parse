{
 "cells": [
  {
   "cell_type": "markdown",
   "metadata": {},
   "source": [
    " Необходимо собрать информацию о вакансиях на вводимую должность (используем input или через аргументы) с сайта superjob.ru и hh.ru. Приложение должно анализировать несколько страниц сайта(также вводим через input или аргументы). Получившийся список должен содержать в себе минимум:\n",
    "\n",
    "    *Наименование вакансии\n",
    "    *Предлагаемую зарплату (отдельно мин. и отдельно макс.)\n",
    "    *Ссылку на саму вакансию        \n",
    "    *Сайт откуда собрана вакансия\n",
    "По своему желанию можно добавить еще работодателя и расположение. Данная структура должна быть одинаковая для вакансий с обоих сайтов. Общий результат можно вывести с помощью dataFrame через pandas"
   ]
  },
  {
   "cell_type": "markdown",
   "metadata": {},
   "source": [
    "https://hh.ru/search/vacancy?area=1&st=searchVacancy&text=%D0%A1%D0%B2%D0%B0%D1%80%D1%89%D0%B8%D0%BA&from=suggest_post&showClusters=false\n",
    "\n",
    "<a class=\"bloko-button HH-Pager-Control\" data-page=\"11\" data-qa=\"pager-page\" rel=\"nofollow\" href=\"/search/vacancy?L_is_autosearch=false&amp;area=1&amp;clusters=true&amp;enable_snippets=true&amp;text=%D0%A1%D0%B2%D0%B0%D1%80%D1%89%D0%B8%D0%BA&amp;page=11\">12</a>\n",
    "\n",
    "https://hh.ru/search/vacancy?area=1&clusters=true&enable_snippets=true&order_by=publication_time&text=%D0%A1%D0%B2%D0%B0%D1%80%D1%89%D0%B8%D0%BA&salary=\n",
    "https://hh.ru/search/vacancy?L_is_autosearch=false&area=1&clusters=true&enable_snippets=true&order_by=publication_time&text=%D0%A1%D0%B2%D0%B0%D1%80%D1%89%D0%B8%D0%BA&page=11"
   ]
  },
  {
   "cell_type": "code",
   "execution_count": 1,
   "metadata": {},
   "outputs": [],
   "source": [
    "from pprint import pprint\n",
    "from bs4 import BeautifulSoup as bs\n",
    "import requests"
   ]
  },
  {
   "cell_type": "code",
   "execution_count": 2,
   "metadata": {},
   "outputs": [
    {
     "name": "stdout",
     "output_type": "stream",
     "text": [
      "Введите название вакансииПрограммист\n",
      "https://hh.ru/search/vacancy?area=1&clusters=true&enable_snippets=true&order_by=publication_time&text=Программист&salary=\n"
     ]
    }
   ],
   "source": [
    "search = input('Введите название вакансии')\n",
    "main_link = f'https://hh.ru/search/vacancy?area=1&clusters=true&enable_snippets=true&order_by=publication_time&text={search}&salary='\n",
    "print(main_link)"
   ]
  },
  {
   "cell_type": "code",
   "execution_count": 3,
   "metadata": {},
   "outputs": [],
   "source": [
    "header = {'User-Agent':'Mozilla/5.0 (Windows NT 10.0; Win64; x64) AppleWebKit/537.36 (KHTML, like Gecko) Chrome/78.0.3904.108 Safari/537.36'}\n",
    "response = requests.get(main_link, headers = header).text\n",
    "html = bs(response,'lxml')"
   ]
  },
  {
   "cell_type": "code",
   "execution_count": 4,
   "metadata": {},
   "outputs": [
    {
     "data": {
      "text/plain": [
       "'/search/vacancy?area=1&clusters=true&enable_snippets=true&order_by=publication_time&search_field=name&text=%D0%9F%D1%80%D0%BE%D0%B3%D1%80%D0%B0%D0%BC%D0%BC%D0%B8%D1%81%D1%82&page=99'"
      ]
     },
     "execution_count": 4,
     "metadata": {},
     "output_type": "execute_result"
    }
   ],
   "source": [
    "pager = html.findAll('span',{'class':'pager-item-not-in-short-range'})\n",
    "last_page = pager[-1].find('a',{'class':'bloko-button HH-Pager-Control', 'data-qa': 'pager-page'})\n",
    "link_last = last_page['href']\n",
    "link_last"
   ]
  },
  {
   "cell_type": "code",
   "execution_count": 5,
   "metadata": {},
   "outputs": [],
   "source": [
    "global_name = 'https://hh.ru'\n",
    "main_link_last = f'{global_name}{link_last}'"
   ]
  },
  {
   "cell_type": "code",
   "execution_count": 6,
   "metadata": {},
   "outputs": [],
   "source": [
    "response_last = requests.get(main_link_last, headers = header).text\n",
    "html_last = bs(response_last,'lxml')"
   ]
  },
  {
   "cell_type": "code",
   "execution_count": 7,
   "metadata": {},
   "outputs": [],
   "source": [
    "names = html_last.findAll('div',{'class':'resume-search-item__name'})"
   ]
  },
  {
   "cell_type": "code",
   "execution_count": 8,
   "metadata": {},
   "outputs": [],
   "source": [
    "import pandas as pd\n",
    "result = pd.DataFrame()"
   ]
  },
  {
   "cell_type": "code",
   "execution_count": 9,
   "metadata": {},
   "outputs": [],
   "source": [
    "names_list = []\n",
    "for i in names:\n",
    "    names_list.append(i.getText())"
   ]
  },
  {
   "cell_type": "code",
   "execution_count": 10,
   "metadata": {},
   "outputs": [],
   "source": [
    "result['names'] = names_list"
   ]
  },
  {
   "cell_type": "code",
   "execution_count": 11,
   "metadata": {},
   "outputs": [
    {
     "data": {
      "text/html": [
       "<div>\n",
       "<style scoped>\n",
       "    .dataframe tbody tr th:only-of-type {\n",
       "        vertical-align: middle;\n",
       "    }\n",
       "\n",
       "    .dataframe tbody tr th {\n",
       "        vertical-align: top;\n",
       "    }\n",
       "\n",
       "    .dataframe thead th {\n",
       "        text-align: right;\n",
       "    }\n",
       "</style>\n",
       "<table border=\"1\" class=\"dataframe\">\n",
       "  <thead>\n",
       "    <tr style=\"text-align: right;\">\n",
       "      <th></th>\n",
       "      <th>names</th>\n",
       "    </tr>\n",
       "  </thead>\n",
       "  <tbody>\n",
       "    <tr>\n",
       "      <th>0</th>\n",
       "      <td>Android developer</td>\n",
       "    </tr>\n",
       "    <tr>\n",
       "      <th>1</th>\n",
       "      <td>Веб-разработчик/PHP-программист</td>\n",
       "    </tr>\n",
       "    <tr>\n",
       "      <th>2</th>\n",
       "      <td>Программист-разработчик С/С++</td>\n",
       "    </tr>\n",
       "    <tr>\n",
       "      <th>3</th>\n",
       "      <td>Backend разработчик (golang)</td>\n",
       "    </tr>\n",
       "    <tr>\n",
       "      <th>4</th>\n",
       "      <td>Frontend-разработчик React</td>\n",
       "    </tr>\n",
       "    <tr>\n",
       "      <th>5</th>\n",
       "      <td>Java-разработчик</td>\n",
       "    </tr>\n",
       "    <tr>\n",
       "      <th>6</th>\n",
       "      <td>Инженер-разработчик (Embedded, C++)</td>\n",
       "    </tr>\n",
       "    <tr>\n",
       "      <th>7</th>\n",
       "      <td>Разработчик PHP</td>\n",
       "    </tr>\n",
       "    <tr>\n",
       "      <th>8</th>\n",
       "      <td>Senior web developer (backend)</td>\n",
       "    </tr>\n",
       "    <tr>\n",
       "      <th>9</th>\n",
       "      <td>Java разработчик</td>\n",
       "    </tr>\n",
       "    <tr>\n",
       "      <th>10</th>\n",
       "      <td>Разработчик back-end</td>\n",
       "    </tr>\n",
       "    <tr>\n",
       "      <th>11</th>\n",
       "      <td>Senior Java Programmer</td>\n",
       "    </tr>\n",
       "    <tr>\n",
       "      <th>12</th>\n",
       "      <td>Разработчик Python</td>\n",
       "    </tr>\n",
       "    <tr>\n",
       "      <th>13</th>\n",
       "      <td>Senior IOS разработчик</td>\n",
       "    </tr>\n",
       "    <tr>\n",
       "      <th>14</th>\n",
       "      <td>Frontend разработчик</td>\n",
       "    </tr>\n",
       "    <tr>\n",
       "      <th>15</th>\n",
       "      <td>Senior Ruby developer</td>\n",
       "    </tr>\n",
       "    <tr>\n",
       "      <th>16</th>\n",
       "      <td>Middle PHP Developer</td>\n",
       "    </tr>\n",
       "    <tr>\n",
       "      <th>17</th>\n",
       "      <td>React Native Android iOS разработчик</td>\n",
       "    </tr>\n",
       "    <tr>\n",
       "      <th>18</th>\n",
       "      <td>Ведущий веб-разработчик</td>\n",
       "    </tr>\n",
       "    <tr>\n",
       "      <th>19</th>\n",
       "      <td>Frontend разработчик</td>\n",
       "    </tr>\n",
       "  </tbody>\n",
       "</table>\n",
       "</div>"
      ],
      "text/plain": [
       "                                   names\n",
       "0                      Android developer\n",
       "1        Веб-разработчик/PHP-программист\n",
       "2          Программист-разработчик С/С++\n",
       "3           Backend разработчик (golang)\n",
       "4             Frontend-разработчик React\n",
       "5                       Java-разработчик\n",
       "6    Инженер-разработчик (Embedded, C++)\n",
       "7                        Разработчик PHP\n",
       "8         Senior web developer (backend)\n",
       "9                       Java разработчик\n",
       "10                  Разработчик back-end\n",
       "11                Senior Java Programmer\n",
       "12                    Разработчик Python\n",
       "13                Senior IOS разработчик\n",
       "14                  Frontend разработчик\n",
       "15                 Senior Ruby developer\n",
       "16                  Middle PHP Developer\n",
       "17  React Native Android iOS разработчик\n",
       "18               Ведущий веб-разработчик\n",
       "19                  Frontend разработчик"
      ]
     },
     "execution_count": 11,
     "metadata": {},
     "output_type": "execute_result"
    }
   ],
   "source": [
    "result"
   ]
  },
  {
   "cell_type": "code",
   "execution_count": 13,
   "metadata": {},
   "outputs": [],
   "source": [
    "salary = []"
   ]
  },
  {
   "cell_type": "code",
   "execution_count": 14,
   "metadata": {},
   "outputs": [
    {
     "data": {
      "text/plain": [
       "[None,\n",
       " 'до 150\\xa0000 руб.',\n",
       " None,\n",
       " None,\n",
       " None,\n",
       " None,\n",
       " None,\n",
       " 'от 120\\xa0000 руб.',\n",
       " '160\\xa0000-250\\xa0000 руб.',\n",
       " None,\n",
       " None,\n",
       " None,\n",
       " None,\n",
       " None,\n",
       " None,\n",
       " 'от 2\\xa0800 USD',\n",
       " '100\\xa0000-150\\xa0000 руб.',\n",
       " 'от 170\\xa0000 руб.',\n",
       " '200\\xa0000-287\\xa0500 руб.',\n",
       " <div class=\"vacancy-serp-item__compensation\" data-qa=\"vacancy-serp__vacancy-compensation\">от 180 000 руб.</div>]"
      ]
     },
     "execution_count": 14,
     "metadata": {},
     "output_type": "execute_result"
    }
   ],
   "source": [
    "salarys = html_last.findAll('div',{'class':'vacancy-serp-item__row vacancy-serp-item__row_header'})\n",
    "salarys_all = []\n",
    "for i in salarys:\n",
    "    salarys_2 = i.find('div',{'class':'vacancy-serp-item__compensation'})\n",
    "    salarys_all.append(salarys_2)\n",
    "for i in range(len(salarys_all)-1):\n",
    "    if salarys_all[i]:\n",
    "        salarys_all[i] = salarys_all[i].getText()\n",
    "salarys_all"
   ]
  },
  {
   "cell_type": "code",
   "execution_count": 52,
   "metadata": {},
   "outputs": [],
   "source": [
    "salarys_1 = []\n",
    "salarys_2 = []"
   ]
  },
  {
   "cell_type": "code",
   "execution_count": 53,
   "metadata": {},
   "outputs": [],
   "source": [
    "import re"
   ]
  },
  {
   "cell_type": "code",
   "execution_count": 56,
   "metadata": {},
   "outputs": [],
   "source": [
    "for i in range(len(salarys_all)-1):\n",
    "    if salarys_all[i]:\n",
    "        hm = re.findall(r'^от_*', salarys_all[i])\n",
    "        if hm:\n",
    "            salarys_1.append(hm[0])\n",
    "            salarys_2.append(hm[0])\n",
    "    else:\n",
    "        salarys_1.append('None')\n",
    "        salarys_2.append('None')"
   ]
  },
  {
   "cell_type": "code",
   "execution_count": 57,
   "metadata": {},
   "outputs": [
    {
     "data": {
      "text/plain": [
       "['None',\n",
       " 'None',\n",
       " 'None',\n",
       " 'None',\n",
       " 'None',\n",
       " 'None',\n",
       " 'None',\n",
       " 'от',\n",
       " 'None',\n",
       " 'None',\n",
       " 'None',\n",
       " 'None',\n",
       " 'None',\n",
       " 'None',\n",
       " 'от',\n",
       " 'от']"
      ]
     },
     "execution_count": 57,
     "metadata": {},
     "output_type": "execute_result"
    }
   ],
   "source": [
    "salarys_1"
   ]
  },
  {
   "cell_type": "code",
   "execution_count": null,
   "metadata": {},
   "outputs": [],
   "source": []
  }
 ],
 "metadata": {
  "kernelspec": {
   "display_name": "Python 3",
   "language": "python",
   "name": "python3"
  },
  "language_info": {
   "codemirror_mode": {
    "name": "ipython",
    "version": 3
   },
   "file_extension": ".py",
   "mimetype": "text/x-python",
   "name": "python",
   "nbconvert_exporter": "python",
   "pygments_lexer": "ipython3",
   "version": "3.7.6"
  }
 },
 "nbformat": 4,
 "nbformat_minor": 2
}
