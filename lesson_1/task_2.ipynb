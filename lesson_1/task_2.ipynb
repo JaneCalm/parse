{
 "cells": [
  {
   "cell_type": "markdown",
   "metadata": {},
   "source": [
    "### 2. Изучить список открытых API. \n",
    "Найти среди них любое, требующее авторизацию (любого типа). Выполнить запросы к нему, пройдя авторизацию. Ответ сервера записать в файл."
   ]
  },
  {
   "cell_type": "code",
   "execution_count": 2,
   "metadata": {},
   "outputs": [],
   "source": [
    "import requests\n",
    "import json\n",
    "from getpass import getpass"
   ]
  },
  {
   "cell_type": "code",
   "execution_count": 4,
   "metadata": {},
   "outputs": [
    {
     "name": "stdout",
     "output_type": "stream",
     "text": [
      "········\n"
     ]
    }
   ],
   "source": [
    "token = getpass()"
   ]
  },
  {
   "cell_type": "code",
   "execution_count": 10,
   "metadata": {},
   "outputs": [],
   "source": [
    "firstname_s = \"William\"\n",
    "lastname_s = \"Milligan\""
   ]
  },
  {
   "cell_type": "code",
   "execution_count": 11,
   "metadata": {},
   "outputs": [],
   "source": [
    "r = requests.get(f'https://completecriminalchecks.com/api/json/?firstname={firstname_s}&lastname={lastname_s}&apikey={token}')"
   ]
  },
  {
   "cell_type": "code",
   "execution_count": 12,
   "metadata": {},
   "outputs": [],
   "source": [
    "data = r.json()"
   ]
  },
  {
   "cell_type": "code",
   "execution_count": 13,
   "metadata": {},
   "outputs": [
    {
     "data": {
      "text/plain": [
       "{'response': {'status': 'SUCCESS', 'calls': '24'},\n",
       " 'person': [{'id': 'NY_SEX_14955',\n",
       "   'full_name': 'MILLIGAN WILLIAM',\n",
       "   'dob': '12/26/1943',\n",
       "   'race': 'White',\n",
       "   'sex': 'Male',\n",
       "   'height': '510',\n",
       "   'weight': '175',\n",
       "   'hair': 'Gray',\n",
       "   'eyes': 'Blue',\n",
       "   'address': '190 DUBOIS ST PINE BUSH New York 12566',\n",
       "   'crime': 'Sexual Contact Rape 1st Forcible Compulsion  Mamaroneck Village Police Department   06 8 2000 ',\n",
       "   'personal': ' MILLIGAN WILLIAM PATRICK ',\n",
       "   'vehicle': 'JLJ3389 New York 2016 Nissan Sentra Gray T68KRN New Jersey 2018 Kia Motor Corporation Optima ColorBlack ',\n",
       "   'sentence': 'Term  10 Year s  State Prison',\n",
       "   'victim': 'Female 49 Years',\n",
       "   'latitude': '41.6096080449551',\n",
       "   'longitude': '-74.2848710934709',\n",
       "   'last_update': '01/2020',\n",
       "   'state': 'NY',\n",
       "   'state_name': 'New York',\n",
       "   'db': 'SEX'},\n",
       "  {'id': 'ME_DOC_14538',\n",
       "   'full_name': 'Milligan Daniel William',\n",
       "   'aka': 'Daniel W Milligan',\n",
       "   'dob': '6/17/1987',\n",
       "   'race': 'White',\n",
       "   'sex': 'Male',\n",
       "   'height': '57',\n",
       "   'weight': '150',\n",
       "   'hair': 'Brown',\n",
       "   'eyes': 'Brown',\n",
       "   'crime': ' 6 18 2018 DOMESTIC VIOLENCE ASSAULT YORK CRIMINAL DOCKET     ',\n",
       "   'personal': 'Scar Abdomen Scar Forehead',\n",
       "   'last_update': '1/2020',\n",
       "   'state': 'ME',\n",
       "   'state_name': 'Maine',\n",
       "   'db': 'DOC'},\n",
       "  {'id': 'MO_DOC_523546',\n",
       "   'full_name': 'MILLIGAN WILLIAM',\n",
       "   'dob': '12/29/1966',\n",
       "   'race': 'White',\n",
       "   'sex': 'Male',\n",
       "   'crime': 'ASSAULT SECOND DEGREE',\n",
       "   'last_update': '3/2018',\n",
       "   'state': 'MO',\n",
       "   'state_name': 'Missouri',\n",
       "   'db': 'DOC'},\n",
       "  {'id': 'MO_DOC_523547',\n",
       "   'full_name': 'MILLIGAN WILLIAM',\n",
       "   'dob': '12/29/1966',\n",
       "   'race': 'White',\n",
       "   'sex': 'Male',\n",
       "   'crime': 'ASSAULT3RD',\n",
       "   'last_update': '3/2018',\n",
       "   'state': 'MO',\n",
       "   'state_name': 'Missouri',\n",
       "   'db': 'DOC'},\n",
       "  {'id': 'MO_DOC_523548',\n",
       "   'full_name': 'MILLIGAN WILLIAM R',\n",
       "   'dob': '1/5/1955',\n",
       "   'race': 'White',\n",
       "   'sex': 'Male',\n",
       "   'crime': 'ARSON  2ND',\n",
       "   'last_update': '3/2018',\n",
       "   'state': 'MO',\n",
       "   'state_name': 'Missouri',\n",
       "   'db': 'DOC'}],\n",
       " 'totals': {'count': '5',\n",
       "  'sor_count': '1',\n",
       "  'doc_count': '4',\n",
       "  'court_count': '0'}}"
      ]
     },
     "execution_count": 13,
     "metadata": {},
     "output_type": "execute_result"
    }
   ],
   "source": [
    "data"
   ]
  },
  {
   "cell_type": "code",
   "execution_count": 14,
   "metadata": {},
   "outputs": [],
   "source": [
    "with open('criminal.json', 'w', encoding='utf-8') as file:\n",
    "    json.dump(data, file, indent=2, ensure_ascii=False)"
   ]
  },
  {
   "cell_type": "code",
   "execution_count": 24,
   "metadata": {},
   "outputs": [
    {
     "name": "stdout",
     "output_type": "stream",
     "text": [
      "Полное имя -  MILLIGAN WILLIAM \n",
      "Преступление -  Sexual Contact Rape 1st Forcible Compulsion  Mamaroneck Village Police Department   06 8 2000  \n",
      "\n",
      "Полное имя -  Milligan Daniel William \n",
      "Преступление -   6 18 2018 DOMESTIC VIOLENCE ASSAULT YORK CRIMINAL DOCKET      \n",
      "\n",
      "Полное имя -  MILLIGAN WILLIAM \n",
      "Преступление -  ASSAULT SECOND DEGREE \n",
      "\n",
      "Полное имя -  MILLIGAN WILLIAM \n",
      "Преступление -  ASSAULT3RD \n",
      "\n",
      "Полное имя -  MILLIGAN WILLIAM R \n",
      "Преступление -  ARSON  2ND \n",
      "\n"
     ]
    }
   ],
   "source": [
    "for i in data['person']:\n",
    "    print('Полное имя - ', i['full_name'], '\\nПреступление - ', i['crime'], '\\n')"
   ]
  },
  {
   "cell_type": "code",
   "execution_count": null,
   "metadata": {},
   "outputs": [],
   "source": []
  }
 ],
 "metadata": {
  "kernelspec": {
   "display_name": "Python 3",
   "language": "python",
   "name": "python3"
  },
  "language_info": {
   "codemirror_mode": {
    "name": "ipython",
    "version": 3
   },
   "file_extension": ".py",
   "mimetype": "text/x-python",
   "name": "python",
   "nbconvert_exporter": "python",
   "pygments_lexer": "ipython3",
   "version": "3.7.6"
  }
 },
 "nbformat": 4,
 "nbformat_minor": 2
}
