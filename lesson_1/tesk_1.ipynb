{
 "cells": [
  {
   "cell_type": "markdown",
   "metadata": {},
   "source": [
    "### Посмотреть документацию к API GitHub\n",
    "разобраться как вывести список репозиториев для конкретного пользователя, сохранить JSON-вывод в файле *.json."
   ]
  },
  {
   "cell_type": "code",
   "execution_count": 1,
   "metadata": {},
   "outputs": [],
   "source": [
    "import requests\n",
    "import json"
   ]
  },
  {
   "cell_type": "code",
   "execution_count": 2,
   "metadata": {},
   "outputs": [],
   "source": [
    "from getpass import getpass"
   ]
  },
  {
   "cell_type": "code",
   "execution_count": 3,
   "metadata": {},
   "outputs": [
    {
     "name": "stdout",
     "output_type": "stream",
     "text": [
      "········\n"
     ]
    }
   ],
   "source": [
    "username = 'janecalm'\n",
    "password = getpass()"
   ]
  },
  {
   "cell_type": "code",
   "execution_count": 4,
   "metadata": {},
   "outputs": [],
   "source": [
    "user_search = 'jakevdp'"
   ]
  },
  {
   "cell_type": "code",
   "execution_count": 5,
   "metadata": {},
   "outputs": [],
   "source": [
    "r = requests.get(f'https://api.github.com/users/{user_search}/repos', auth=(username, password))"
   ]
  },
  {
   "cell_type": "code",
   "execution_count": 6,
   "metadata": {},
   "outputs": [],
   "source": [
    "data2 = r.json()"
   ]
  },
  {
   "cell_type": "code",
   "execution_count": 7,
   "metadata": {},
   "outputs": [
    {
     "name": "stdout",
     "output_type": "stream",
     "text": [
      "2013_fall_ASTR599   https://github.com/jakevdp/2013_fall_ASTR599\n",
      "2014_fall_ASTR599   https://github.com/jakevdp/2014_fall_ASTR599\n",
      "administrative   https://github.com/jakevdp/administrative\n",
      "altair   https://github.com/jakevdp/altair\n",
      "altair-block   https://github.com/jakevdp/altair-block\n",
      "altair-examples   https://github.com/jakevdp/altair-examples\n",
      "altair-feedstock   https://github.com/jakevdp/altair-feedstock\n",
      "altair-transform   https://github.com/jakevdp/altair-transform\n",
      "altair2   https://github.com/jakevdp/altair2\n",
      "altair_data_server   https://github.com/jakevdp/altair_data_server\n",
      "altair_pandas   https://github.com/jakevdp/altair_pandas\n",
      "altair_saver   https://github.com/jakevdp/altair_saver\n",
      "altair_viewer   https://github.com/jakevdp/altair_viewer\n",
      "anaconda-ec2   https://github.com/jakevdp/anaconda-ec2\n",
      "ASTR599_homework   https://github.com/jakevdp/ASTR599_homework\n",
      "AstroAuthorQuery   https://github.com/jakevdp/AstroAuthorQuery\n",
      "astropy   https://github.com/jakevdp/astropy\n",
      "astropy-binder   https://github.com/jakevdp/astropy-binder\n",
      "astropy-v2.0-paper   https://github.com/jakevdp/astropy-v2.0-paper\n",
      "BayesianAstronomy   https://github.com/jakevdp/BayesianAstronomy\n",
      "BinaryTree   https://github.com/jakevdp/BinaryTree\n",
      "black   https://github.com/jakevdp/black\n",
      "bokeh   https://github.com/jakevdp/bokeh\n",
      "BombScargle   https://github.com/jakevdp/BombScargle\n",
      "colab-snippets   https://github.com/jakevdp/colab-snippets\n",
      "colabtools   https://github.com/jakevdp/colabtools\n",
      "conda-recipes   https://github.com/jakevdp/conda-recipes\n",
      "corner.py   https://github.com/jakevdp/corner.py\n",
      "Creative-Commons-Markdown   https://github.com/jakevdp/Creative-Commons-Markdown\n",
      "cython   https://github.com/jakevdp/cython\n"
     ]
    }
   ],
   "source": [
    "for i in data2:\n",
    "    print(i['name'],' ', i['html_url'])"
   ]
  },
  {
   "cell_type": "code",
   "execution_count": 8,
   "metadata": {},
   "outputs": [],
   "source": [
    "# для авторизации через токен\n",
    "# r2 = requests.get(f'https://api.github.com/users/{user_search}/repos?appid={token}')"
   ]
  },
  {
   "cell_type": "code",
   "execution_count": 9,
   "metadata": {},
   "outputs": [],
   "source": [
    "with open('github.json', 'w', encoding='utf-8') as file:\n",
    "    json.dump(data2, file, indent=2, ensure_ascii=False)"
   ]
  }
 ],
 "metadata": {
  "kernelspec": {
   "display_name": "Python 3",
   "language": "python",
   "name": "python3"
  },
  "language_info": {
   "codemirror_mode": {
    "name": "ipython",
    "version": 3
   },
   "file_extension": ".py",
   "mimetype": "text/x-python",
   "name": "python",
   "nbconvert_exporter": "python",
   "pygments_lexer": "ipython3",
   "version": "3.7.6"
  }
 },
 "nbformat": 4,
 "nbformat_minor": 2
}
